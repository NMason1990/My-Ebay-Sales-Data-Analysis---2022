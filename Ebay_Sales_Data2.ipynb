{
 "cells": [
  {
   "attachments": {},
   "cell_type": "markdown",
   "metadata": {},
   "source": [
    "1. Import the CSV File for transactions\n",
    "2. Read file using pandas with pd.read_csv\n",
    "3. Next clean data by making a new dataframe and using the .loc function to show only selected columns. \n"
   ]
  },
  {
   "cell_type": "code",
   "execution_count": 5,
   "metadata": {},
   "outputs": [],
   "source": [
    "import pandas as pd\n",
    "import numpy as np \n",
    "import matplotlib_inline as plt\n",
    "\n",
    "pd.options.display.max_rows = 374\n",
    "pd.options.display.max_columns = 374\n",
    "\n",
    "df = pd.read_csv(r'Transaction-Report-Feb-03-2023-07_27_28-0700-1382246697.csv')\n",
    "columns = df.loc[:, ['Transaction date' , 'Order number' , 'Buyer username' , 'Ship to zip', 'Ship to country' ,\\\n",
    "     'Net amount' , 'Item ID' , 'Transaction ID' , 'Item title' , 'Gross transaction amount'] ]\n",
    "\n",
    "\n"
   ]
  },
  {
   "attachments": {},
   "cell_type": "markdown",
   "metadata": {},
   "source": [
    "4. Clean data further by removing transactions that show negative dollar amounts/blanks Transaction ID column. I just created a new variable and removed rows in the column \"Transaction ID\" based on a condition. "
   ]
  },
  {
   "cell_type": "code",
   "execution_count": 8,
   "metadata": {},
   "outputs": [],
   "source": [
    "columns_without_blanks = columns[columns['Transaction ID'] != \"--\"]\n"
   ]
  },
  {
   "attachments": {},
   "cell_type": "markdown",
   "metadata": {},
   "source": [
    "5. Reverse order so that the columns and rows are in order of date Beggining of 2022 to end of 2022 using the loc function in pandas."
   ]
  },
  {
   "cell_type": "code",
   "execution_count": 10,
   "metadata": {},
   "outputs": [],
   "source": [
    "cols_by_date = columns_without_blanks.loc[:: -1]\n"
   ]
  },
  {
   "attachments": {},
   "cell_type": "markdown",
   "metadata": {},
   "source": [
    "6. I want to figure out the average sale price of items, How much I spent in fees for the year including shipping and ebay fees. Also I want to visualize sales by month, and how many items sold per month. "
   ]
  }
 ],
 "metadata": {
  "kernelspec": {
   "display_name": "Python 3",
   "language": "python",
   "name": "python3"
  },
  "language_info": {
   "codemirror_mode": {
    "name": "ipython",
    "version": 3
   },
   "file_extension": ".py",
   "mimetype": "text/x-python",
   "name": "python",
   "nbconvert_exporter": "python",
   "pygments_lexer": "ipython3",
   "version": "3.11.1"
  },
  "orig_nbformat": 4,
  "vscode": {
   "interpreter": {
    "hash": "0703d9b224d184513ecf27f2d6175afd7a4b2862e4bf28afb45a2d2b6862ef9e"
   }
  }
 },
 "nbformat": 4,
 "nbformat_minor": 2
}
