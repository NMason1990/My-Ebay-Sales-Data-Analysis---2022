{
 "cells": [
  {
   "attachments": {},
   "cell_type": "markdown",
   "metadata": {},
   "source": [
    "In this project I will be using a . csv file from my ebay store to visualize and findout my gross and net sales per month in 2022.\n",
    "As well as figuring out the difference between the two to calculate costs such as shipping and fees per month. I will also be looking for the average sale price per item, as well as visualizing where orders are coming from in the US. "
   ]
  },
  {
   "attachments": {},
   "cell_type": "markdown",
   "metadata": {},
   "source": [
    "Read in data from a local csv,\n",
    "excel file, json, or any other\n",
    "file type. There are many\n",
    "ways to do this, but using\n",
    "Pandas read_ functions is\n",
    "pretty easy."
   ]
  },
  {
   "cell_type": "code",
   "execution_count": 20,
   "metadata": {},
   "outputs": [
    {
     "data": {
      "text/html": [
       "<div>\n",
       "<style scoped>\n",
       "    .dataframe tbody tr th:only-of-type {\n",
       "        vertical-align: middle;\n",
       "    }\n",
       "\n",
       "    .dataframe tbody tr th {\n",
       "        vertical-align: top;\n",
       "    }\n",
       "\n",
       "    .dataframe thead th {\n",
       "        text-align: right;\n",
       "    }\n",
       "</style>\n",
       "<table border=\"1\" class=\"dataframe\">\n",
       "  <thead>\n",
       "    <tr style=\"text-align: right;\">\n",
       "      <th></th>\n",
       "      <th>Transaction date</th>\n",
       "      <th>Type</th>\n",
       "      <th>Order number</th>\n",
       "      <th>Legacy order ID</th>\n",
       "      <th>Buyer username</th>\n",
       "      <th>Buyer name</th>\n",
       "      <th>Ship to city</th>\n",
       "      <th>Ship to province/region/state</th>\n",
       "      <th>Ship to zip</th>\n",
       "      <th>Ship to country</th>\n",
       "      <th>Net amount</th>\n",
       "      <th>Payout currency</th>\n",
       "      <th>Payout date</th>\n",
       "      <th>Payout ID</th>\n",
       "      <th>Payout method</th>\n",
       "      <th>Payout status</th>\n",
       "      <th>Reason for hold</th>\n",
       "      <th>Item ID</th>\n",
       "      <th>Transaction ID</th>\n",
       "      <th>Item title</th>\n",
       "      <th>Custom label</th>\n",
       "      <th>Quantity</th>\n",
       "      <th>Item subtotal</th>\n",
       "      <th>Shipping and handling</th>\n",
       "      <th>Seller collected tax</th>\n",
       "      <th>eBay collected tax</th>\n",
       "      <th>Final Value Fee - fixed</th>\n",
       "      <th>Final Value Fee - variable</th>\n",
       "      <th>Very high \"item not as described\" fee</th>\n",
       "      <th>Below standard performance fee</th>\n",
       "      <th>International fee</th>\n",
       "      <th>Deposit processing fee</th>\n",
       "      <th>Gross transaction amount</th>\n",
       "      <th>Transaction currency</th>\n",
       "      <th>Exchange rate</th>\n",
       "      <th>Reference ID</th>\n",
       "      <th>Description</th>\n",
       "    </tr>\n",
       "  </thead>\n",
       "  <tbody>\n",
       "    <tr>\n",
       "      <th>0</th>\n",
       "      <td>Jan 1, 2023</td>\n",
       "      <td>Other fee</td>\n",
       "      <td>16-09530-33898</td>\n",
       "      <td>394317145657-1262258968026</td>\n",
       "      <td>tremor37</td>\n",
       "      <td>Tim Pratt</td>\n",
       "      <td>--</td>\n",
       "      <td>--</td>\n",
       "      <td>--</td>\n",
       "      <td>--</td>\n",
       "      <td>-1.66</td>\n",
       "      <td>USD</td>\n",
       "      <td>Jan 4, 2023</td>\n",
       "      <td>5725864515</td>\n",
       "      <td>Central National Bank of Enid *3735</td>\n",
       "      <td>Funds sent</td>\n",
       "      <td>--</td>\n",
       "      <td>394317145657</td>\n",
       "      <td>--</td>\n",
       "      <td>--</td>\n",
       "      <td>--</td>\n",
       "      <td>--</td>\n",
       "      <td>--</td>\n",
       "      <td>--</td>\n",
       "      <td>--</td>\n",
       "      <td>--</td>\n",
       "      <td>--</td>\n",
       "      <td>--</td>\n",
       "      <td>--</td>\n",
       "      <td>--</td>\n",
       "      <td>--</td>\n",
       "      <td>--</td>\n",
       "      <td>-1.66</td>\n",
       "      <td>USD</td>\n",
       "      <td>--</td>\n",
       "      <td>FEE-5162059151715</td>\n",
       "      <td>Ad Fee Standard</td>\n",
       "    </tr>\n",
       "    <tr>\n",
       "      <th>1</th>\n",
       "      <td>Jan 1, 2023</td>\n",
       "      <td>Order</td>\n",
       "      <td>16-09530-33898</td>\n",
       "      <td>394317145657-1262258968026</td>\n",
       "      <td>tremor37</td>\n",
       "      <td>Tim Pratt</td>\n",
       "      <td>Belle Chasse</td>\n",
       "      <td>LA</td>\n",
       "      <td>70037-0667</td>\n",
       "      <td>US</td>\n",
       "      <td>19.00</td>\n",
       "      <td>USD</td>\n",
       "      <td>Jan 4, 2023</td>\n",
       "      <td>5725864515</td>\n",
       "      <td>Central National Bank of Enid *3735</td>\n",
       "      <td>Funds sent</td>\n",
       "      <td>--</td>\n",
       "      <td>394317145657</td>\n",
       "      <td>1262258968026</td>\n",
       "      <td>The Bionic Woman: The Complete Series DVD with...</td>\n",
       "      <td>--</td>\n",
       "      <td>1</td>\n",
       "      <td>10</td>\n",
       "      <td>12.75</td>\n",
       "      <td>--</td>\n",
       "      <td>0.9</td>\n",
       "      <td>-0.3</td>\n",
       "      <td>-3.45</td>\n",
       "      <td>--</td>\n",
       "      <td>--</td>\n",
       "      <td>--</td>\n",
       "      <td>--</td>\n",
       "      <td>22.75</td>\n",
       "      <td>USD</td>\n",
       "      <td>--</td>\n",
       "      <td>--</td>\n",
       "      <td>--</td>\n",
       "    </tr>\n",
       "  </tbody>\n",
       "</table>\n",
       "</div>"
      ],
      "text/plain": [
       "  Transaction date       Type    Order number             Legacy order ID  \\\n",
       "0      Jan 1, 2023  Other fee  16-09530-33898  394317145657-1262258968026   \n",
       "1      Jan 1, 2023      Order  16-09530-33898  394317145657-1262258968026   \n",
       "\n",
       "  Buyer username Buyer name  Ship to city Ship to province/region/state  \\\n",
       "0       tremor37  Tim Pratt            --                            --   \n",
       "1       tremor37  Tim Pratt  Belle Chasse                            LA   \n",
       "\n",
       "  Ship to zip Ship to country  Net amount Payout currency  Payout date  \\\n",
       "0          --              --       -1.66             USD  Jan 4, 2023   \n",
       "1  70037-0667              US       19.00             USD  Jan 4, 2023   \n",
       "\n",
       "    Payout ID                        Payout method Payout status  \\\n",
       "0  5725864515  Central National Bank of Enid *3735    Funds sent   \n",
       "1  5725864515  Central National Bank of Enid *3735    Funds sent   \n",
       "\n",
       "  Reason for hold       Item ID Transaction ID  \\\n",
       "0              --  394317145657             --   \n",
       "1              --  394317145657  1262258968026   \n",
       "\n",
       "                                          Item title Custom label Quantity  \\\n",
       "0                                                 --           --       --   \n",
       "1  The Bionic Woman: The Complete Series DVD with...           --        1   \n",
       "\n",
       "  Item subtotal Shipping and handling Seller collected tax eBay collected tax  \\\n",
       "0            --                    --                   --                 --   \n",
       "1            10                 12.75                   --                0.9   \n",
       "\n",
       "  Final Value Fee - fixed Final Value Fee - variable  \\\n",
       "0                      --                         --   \n",
       "1                    -0.3                      -3.45   \n",
       "\n",
       "  Very high \"item not as described\" fee Below standard performance fee  \\\n",
       "0                                    --                             --   \n",
       "1                                    --                             --   \n",
       "\n",
       "  International fee Deposit processing fee  Gross transaction amount  \\\n",
       "0                --                     --                     -1.66   \n",
       "1                --                     --                     22.75   \n",
       "\n",
       "  Transaction currency Exchange rate       Reference ID       Description  \n",
       "0                  USD            --  FEE-5162059151715  Ad Fee Standard   \n",
       "1                  USD            --                 --                --  "
      ]
     },
     "execution_count": 20,
     "metadata": {},
     "output_type": "execute_result"
    }
   ],
   "source": [
    "import pandas as pd\n",
    "import numpy as np \n",
    "import matplotlib.pyplot as plt\n",
    "import calendar\n",
    "\n",
    "pd.options.display.max_rows = 374\n",
    "pd.options.display.max_columns = 374\n",
    "\n",
    "df = pd.read_csv(r'Transaction-Report-Feb-03-2023-07_27_28-0700-1382246697.csv')\n",
    "columns = df.loc[:, ['Transaction date' , 'Order number' , 'Buyer username' , 'Ship to province/region/state', 'Ship to zip', 'Ship to country' ,\\\n",
    "     'Net amount' , 'Item ID' , 'Transaction ID' , 'Item title' , 'Gross transaction amount'] ]\n",
    "\n",
    "df.head(2)\n"
   ]
  },
  {
   "attachments": {},
   "cell_type": "markdown",
   "metadata": {},
   "source": [
    "1. Use built-in pandas or numpy\n",
    "functions to do things like\n",
    "remove 0’s and null values\n",
    "where they don’t belong in\n",
    "your dataset. - Here I figured out the blanks in my dataframe are from the transaction ID column. The blank was a string instead of a nan so I used a bool expression to filter those rows out of the dataframe. I also flipped the dataframe to start at January 2022 instead of December 2022. I also used pandas functions to check the data type of data tables and change the date column into a datetime as well as split it into 3 new columns so it would be easier to work with. \n",
    "\n",
    "2. Use custom functions or\n",
    "lambdas to perform specific\n",
    "operations to clean or manipulate your data, return\n",
    "those values, then use them\n",
    "in other parts of your project. - I did this below so using the group by function to aggregate Net and Gross sales columns and add them togther grouped by month. "
   ]
  },
  {
   "cell_type": "code",
   "execution_count": 21,
   "metadata": {},
   "outputs": [
    {
     "data": {
      "text/html": [
       "<div>\n",
       "<style scoped>\n",
       "    .dataframe tbody tr th:only-of-type {\n",
       "        vertical-align: middle;\n",
       "    }\n",
       "\n",
       "    .dataframe tbody tr th {\n",
       "        vertical-align: top;\n",
       "    }\n",
       "\n",
       "    .dataframe thead th {\n",
       "        text-align: right;\n",
       "    }\n",
       "</style>\n",
       "<table border=\"1\" class=\"dataframe\">\n",
       "  <thead>\n",
       "    <tr style=\"text-align: right;\">\n",
       "      <th></th>\n",
       "      <th>Transaction date</th>\n",
       "      <th>Order number</th>\n",
       "      <th>Buyer username</th>\n",
       "      <th>Ship to province/region/state</th>\n",
       "      <th>Ship to zip</th>\n",
       "      <th>Ship to country</th>\n",
       "      <th>Net amount</th>\n",
       "      <th>Item ID</th>\n",
       "      <th>Transaction ID</th>\n",
       "      <th>Item title</th>\n",
       "      <th>Gross transaction amount</th>\n",
       "    </tr>\n",
       "  </thead>\n",
       "  <tbody>\n",
       "    <tr>\n",
       "      <th>373</th>\n",
       "      <td>Jan 1, 2022</td>\n",
       "      <td>16-08077-65484</td>\n",
       "      <td>ruma_2034</td>\n",
       "      <td>CA</td>\n",
       "      <td>95123-4603</td>\n",
       "      <td>US</td>\n",
       "      <td>13.55</td>\n",
       "      <td>393725788988</td>\n",
       "      <td>1172866574026</td>\n",
       "      <td>The Orange Box: Half-Life 2 &amp; Portal (Xbox 360...</td>\n",
       "      <td>16.0</td>\n",
       "    </tr>\n",
       "    <tr>\n",
       "      <th>371</th>\n",
       "      <td>Jan 3, 2022</td>\n",
       "      <td>03-08088-91555</td>\n",
       "      <td>jamesth_1138</td>\n",
       "      <td>OR</td>\n",
       "      <td>97801-2990</td>\n",
       "      <td>US</td>\n",
       "      <td>13.87</td>\n",
       "      <td>393804431741</td>\n",
       "      <td>1173260955026</td>\n",
       "      <td>Sony PlayStation 2 Electronic Arts Need For Sp...</td>\n",
       "      <td>16.2</td>\n",
       "    </tr>\n",
       "  </tbody>\n",
       "</table>\n",
       "</div>"
      ],
      "text/plain": [
       "    Transaction date    Order number Buyer username  \\\n",
       "373      Jan 1, 2022  16-08077-65484      ruma_2034   \n",
       "371      Jan 3, 2022  03-08088-91555   jamesth_1138   \n",
       "\n",
       "    Ship to province/region/state Ship to zip Ship to country  Net amount  \\\n",
       "373                            CA  95123-4603              US       13.55   \n",
       "371                            OR  97801-2990              US       13.87   \n",
       "\n",
       "          Item ID Transaction ID  \\\n",
       "373  393725788988  1172866574026   \n",
       "371  393804431741  1173260955026   \n",
       "\n",
       "                                            Item title  \\\n",
       "373  The Orange Box: Half-Life 2 & Portal (Xbox 360...   \n",
       "371  Sony PlayStation 2 Electronic Arts Need For Sp...   \n",
       "\n",
       "     Gross transaction amount  \n",
       "373                      16.0  \n",
       "371                      16.2  "
      ]
     },
     "execution_count": 21,
     "metadata": {},
     "output_type": "execute_result"
    }
   ],
   "source": [
    "columns_without_blanks = columns[columns['Transaction ID'] != \"--\"]\n",
    "cols_by_date = columns_without_blanks.loc[:: -1]\n",
    "cols_by_date.head(2)\n",
    "\n",
    "\n",
    "\n",
    "\n"
   ]
  },
  {
   "cell_type": "code",
   "execution_count": 22,
   "metadata": {},
   "outputs": [
    {
     "name": "stdout",
     "output_type": "stream",
     "text": [
      "<class 'pandas.core.frame.DataFrame'>\n",
      "Int64Index: 105 entries, 373 to 1\n",
      "Data columns (total 11 columns):\n",
      " #   Column                         Non-Null Count  Dtype  \n",
      "---  ------                         --------------  -----  \n",
      " 0   Transaction date               105 non-null    object \n",
      " 1   Order number                   105 non-null    object \n",
      " 2   Buyer username                 105 non-null    object \n",
      " 3   Ship to province/region/state  105 non-null    object \n",
      " 4   Ship to zip                    105 non-null    object \n",
      " 5   Ship to country                105 non-null    object \n",
      " 6   Net amount                     105 non-null    float64\n",
      " 7   Item ID                        105 non-null    object \n",
      " 8   Transaction ID                 105 non-null    object \n",
      " 9   Item title                     105 non-null    object \n",
      " 10  Gross transaction amount       105 non-null    float64\n",
      "dtypes: float64(2), object(9)\n",
      "memory usage: 9.8+ KB\n"
     ]
    }
   ],
   "source": [
    "cols_by_date.info()"
   ]
  },
  {
   "cell_type": "code",
   "execution_count": 23,
   "metadata": {},
   "outputs": [],
   "source": [
    "cols_by_date['Transaction date'] = pd.to_datetime(cols_by_date['Transaction date'])\n",
    "cols_by_date[\"Year\"] = cols_by_date[\"Transaction date\"].dt.year\n",
    "cols_by_date[\"Month\"] = cols_by_date[\"Transaction date\"].dt.month_name().str.slice(stop=3)\n",
    "cols_by_date[\"Day\"] = cols_by_date[\"Transaction date\"].dt.day"
   ]
  },
  {
   "attachments": {},
   "cell_type": "markdown",
   "metadata": {},
   "source": [
    "Below once I have aggregated my gross and net sales when the dataframe sums them and outputs it was displaying the months in alphabetical order. I will create a list in order to sort by months so that these go in order for when I visualize the data. "
   ]
  },
  {
   "cell_type": "code",
   "execution_count": 24,
   "metadata": {},
   "outputs": [],
   "source": [
    "dates_in_order = pd.date_range(start='2022-01-01', end='2023-01-01', freq='MS')\n",
    "months = [\"Jan\", \"Feb\", \"Mar\", \"Apr\", \"May\", \"Jun\", \n",
    "          \"Jul\", \"Aug\", \"Sep\", \"Oct\", \"Nov\", \"Dec\"]\n"
   ]
  },
  {
   "attachments": {},
   "cell_type": "markdown",
   "metadata": {},
   "source": [
    "Do 5 basic calculations with\n",
    "Pandas, like finding the\n",
    "sum(), median(), mean(), or\n",
    "mode() of a column. You\n",
    "could divide two columns by\n",
    "each other. You could\n",
    "multiple a column by a\n",
    "random integer. You could\n",
    "use string operations and find\n",
    "the most common letter in a\n",
    "given entry."
   ]
  },
  {
   "attachments": {},
   "cell_type": "markdown",
   "metadata": {},
   "source": [
    "Here I am using the groupby function in pandas to group the months of the year to get the sum of the gross transactions per month.\n",
    "I am aggregating gross and net sales. When I finished this process the months displayed alphabetically instead of in order so above I made a list and categorized the months so it would display properly. After sorting that issue I visualized the data into a group bar graph. "
   ]
  },
  {
   "cell_type": "code",
   "execution_count": 25,
   "metadata": {},
   "outputs": [
    {
     "data": {
      "text/html": [
       "<div>\n",
       "<style scoped>\n",
       "    .dataframe tbody tr th:only-of-type {\n",
       "        vertical-align: middle;\n",
       "    }\n",
       "\n",
       "    .dataframe tbody tr th {\n",
       "        vertical-align: top;\n",
       "    }\n",
       "\n",
       "    .dataframe thead th {\n",
       "        text-align: right;\n",
       "    }\n",
       "</style>\n",
       "<table border=\"1\" class=\"dataframe\">\n",
       "  <thead>\n",
       "    <tr style=\"text-align: right;\">\n",
       "      <th></th>\n",
       "      <th>gross_sales</th>\n",
       "      <th>net_sales</th>\n",
       "      <th>gross_avg</th>\n",
       "      <th>net_avg</th>\n",
       "      <th>Costs</th>\n",
       "    </tr>\n",
       "    <tr>\n",
       "      <th>Month</th>\n",
       "      <th></th>\n",
       "      <th></th>\n",
       "      <th></th>\n",
       "      <th></th>\n",
       "      <th></th>\n",
       "    </tr>\n",
       "  </thead>\n",
       "  <tbody>\n",
       "    <tr>\n",
       "      <th>Apr</th>\n",
       "      <td>332.24</td>\n",
       "      <td>282.76</td>\n",
       "      <td>33.22</td>\n",
       "      <td>28.28</td>\n",
       "      <td>49.48</td>\n",
       "    </tr>\n",
       "    <tr>\n",
       "      <th>Aug</th>\n",
       "      <td>220.33</td>\n",
       "      <td>188.39</td>\n",
       "      <td>36.72</td>\n",
       "      <td>31.40</td>\n",
       "      <td>31.94</td>\n",
       "    </tr>\n",
       "    <tr>\n",
       "      <th>Dec</th>\n",
       "      <td>610.97</td>\n",
       "      <td>523.20</td>\n",
       "      <td>55.54</td>\n",
       "      <td>47.56</td>\n",
       "      <td>87.77</td>\n",
       "    </tr>\n",
       "  </tbody>\n",
       "</table>\n",
       "</div>"
      ],
      "text/plain": [
       "       gross_sales  net_sales  gross_avg  net_avg  Costs\n",
       "Month                                                   \n",
       "Apr         332.24     282.76      33.22    28.28  49.48\n",
       "Aug         220.33     188.39      36.72    31.40  31.94\n",
       "Dec         610.97     523.20      55.54    47.56  87.77"
      ]
     },
     "execution_count": 25,
     "metadata": {},
     "output_type": "execute_result"
    }
   ],
   "source": [
    "sales_by_month = cols_by_date.groupby(\"Month\").agg(\n",
    "  gross_sales=('Gross transaction amount', np.sum,),\n",
    "    net_sales=('Net amount', np.sum,), gross_avg=('Gross transaction amount', np.mean), net_avg=('Net amount', np.mean))\n",
    "\n",
    "sales_by_month['Costs'] = sales_by_month.apply(lambda row: row.gross_sales - row.net_sales, axis = 1)\n",
    "sales_by_month.round(2).head(3)\n",
    "\n",
    "\n",
    "\n"
   ]
  },
  {
   "cell_type": "code",
   "execution_count": 26,
   "metadata": {},
   "outputs": [
    {
     "data": {
      "text/plain": [
       "<Axes: xlabel='Month'>"
      ]
     },
     "execution_count": 26,
     "metadata": {},
     "output_type": "execute_result"
    },
    {
     "data": {
      "image/png": "[encoded data removed]",
      "text/plain": [
       "<Figure size 640x480 with 1 Axes>"
      ]
     },
     "metadata": {},
     "output_type": "display_data"
    }
   ],
   "source": [
    "sales_by_month_order = sales_by_month.sort_values('Month', key = lambda x : pd.Categorical(x, categories=months, ordered=True))\n",
    "sales_by_month_order.round(2).plot.bar(stacked=False)\n"
   ]
  },
  {
   "cell_type": "code",
   "execution_count": 27,
   "metadata": {},
   "outputs": [
    {
     "data": {
      "text/html": [
       "<div>\n",
       "<style scoped>\n",
       "    .dataframe tbody tr th:only-of-type {\n",
       "        vertical-align: middle;\n",
       "    }\n",
       "\n",
       "    .dataframe tbody tr th {\n",
       "        vertical-align: top;\n",
       "    }\n",
       "\n",
       "    .dataframe thead th {\n",
       "        text-align: right;\n",
       "    }\n",
       "</style>\n",
       "<table border=\"1\" class=\"dataframe\">\n",
       "  <thead>\n",
       "    <tr style=\"text-align: right;\">\n",
       "      <th></th>\n",
       "      <th>gross_sales</th>\n",
       "      <th>net_sales</th>\n",
       "      <th>gross_avg</th>\n",
       "      <th>net_avg</th>\n",
       "      <th>Yearly Costs</th>\n",
       "    </tr>\n",
       "    <tr>\n",
       "      <th>Year</th>\n",
       "      <th></th>\n",
       "      <th></th>\n",
       "      <th></th>\n",
       "      <th></th>\n",
       "      <th></th>\n",
       "    </tr>\n",
       "  </thead>\n",
       "  <tbody>\n",
       "    <tr>\n",
       "      <th>2022</th>\n",
       "      <td>3955.64</td>\n",
       "      <td>3378.2</td>\n",
       "      <td>38.03</td>\n",
       "      <td>32.48</td>\n",
       "      <td>577.44</td>\n",
       "    </tr>\n",
       "    <tr>\n",
       "      <th>2023</th>\n",
       "      <td>22.75</td>\n",
       "      <td>19.0</td>\n",
       "      <td>22.75</td>\n",
       "      <td>19.00</td>\n",
       "      <td>3.75</td>\n",
       "    </tr>\n",
       "  </tbody>\n",
       "</table>\n",
       "</div>"
      ],
      "text/plain": [
       "      gross_sales  net_sales  gross_avg  net_avg  Yearly Costs\n",
       "Year                                                          \n",
       "2022      3955.64     3378.2      38.03    32.48        577.44\n",
       "2023        22.75       19.0      22.75    19.00          3.75"
      ]
     },
     "execution_count": 27,
     "metadata": {},
     "output_type": "execute_result"
    }
   ],
   "source": [
    "sales_by_month = cols_by_date.groupby(\"Year\").agg(\n",
    "  gross_sales=('Gross transaction amount', np.sum,),\n",
    "    net_sales=('Net amount', np.sum,), gross_avg=('Gross transaction amount', np.mean), net_avg=('Net amount', np.mean))\n",
    "\n",
    "sales_by_month['Yearly Costs'] = sales_by_month.apply(lambda row: row.gross_sales - row.net_sales, axis = 1)\n",
    "sales_by_month.round(2).head(3)"
   ]
  },
  {
   "cell_type": "code",
   "execution_count": 28,
   "metadata": {},
   "outputs": [
    {
     "data": {
      "text/plain": [
       "<Axes: xlabel='Year'>"
      ]
     },
     "execution_count": 28,
     "metadata": {},
     "output_type": "execute_result"
    },
    {
     "data": {
      "image/png": "[encoded data removed]",
      "text/plain": [
       "<Figure size 640x480 with 1 Axes>"
      ]
     },
     "metadata": {},
     "output_type": "display_data"
    }
   ],
   "source": [
    "sales_by_month_order = sales_by_month.sort_values('Year', key = lambda x : pd.Categorical(x, categories=months, ordered=True))\n",
    "sales_by_month_order.round(2).plot.bar(stacked=False)\n"
   ]
  }
 ],
 "metadata": {
  "kernelspec": {
   "display_name": "Python 3",
   "language": "python",
   "name": "python3"
  },
  "language_info": {
   "codemirror_mode": {
    "name": "ipython",
    "version": 3
   },
   "file_extension": ".py",
   "mimetype": "text/x-python",
   "name": "python",
   "nbconvert_exporter": "python",
   "pygments_lexer": "ipython3",
   "version": "3.11.1"
  },
  "orig_nbformat": 4,
  "vscode": {
   "interpreter": {
    "hash": "4384986daea09edb0291336771f01e8c86b3f475d2988d04de091ae8949b45e3"
   }
  }
 },
 "nbformat": 4,
 "nbformat_minor": 2
}
